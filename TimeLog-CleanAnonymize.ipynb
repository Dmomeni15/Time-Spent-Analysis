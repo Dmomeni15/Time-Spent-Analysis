{
 "cells": [
  {
   "cell_type": "code",
   "execution_count": 1,
   "metadata": {},
   "outputs": [],
   "source": [
    "import pandas as pd\n",
    "import time as t\n",
    "from tqdm import tqdm"
   ]
  },
  {
   "cell_type": "code",
   "execution_count": 2,
   "metadata": {},
   "outputs": [],
   "source": [
    "def addColon(row):\n",
    "    # print(row, type(row))\n",
    "    if(\":\" not in row):\n",
    "        # print(\"Adding colon to\", row)\n",
    "        row = row[:-2] +\":\"+ row[-2:]\n",
    "        return row\n",
    "    else:\n",
    "        return row"
   ]
  },
  {
   "cell_type": "code",
   "execution_count": 3,
   "metadata": {
    "scrolled": true
   },
   "outputs": [
    {
     "name": "stdout",
     "output_type": "stream",
     "text": [
      "       Date Starttime Endtime   Activity\n",
      "0  11/11/20      8:30    9:30      break\n",
      "1  11/11/20      9:30   10:20  breakfast\n",
      "Done\n",
      "            Date       Starttime         Endtime   Activity\n",
      "0     2020-11-11 0 days 08:30:00 0 days 09:30:00      break\n",
      "1     2020-11-11 0 days 09:30:00 0 days 10:20:00  breakfast\n",
      "2     2020-11-11 0 days 10:20:00 0 days 10:45:00  breakfast\n",
      "3     2020-11-11 0 days 10:45:00 0 days 12:20:00   planning\n",
      "4     2020-11-11 0 days 12:20:00 0 days 12:30:00        108\n",
      "...          ...             ...             ...        ...\n",
      "14216 2022-04-30 0 days 20:15:00 0 days 21:50:00      break\n",
      "14217 2022-04-30 0 days 21:50:00 0 days 22:20:00      break\n",
      "14218 2022-04-30 0 days 22:20:00 0 days 23:05:00      break\n",
      "14219 2022-04-30 0 days 23:05:00 0 days 23:15:00        162\n",
      "14220 2022-04-30 0 days 23:15:00 0 days 23:55:00      break\n",
      "\n",
      "[14221 rows x 4 columns]\n",
      "<class 'pandas.core.frame.DataFrame'>\n",
      "RangeIndex: 14221 entries, 0 to 14220\n",
      "Data columns (total 4 columns):\n",
      " #   Column     Non-Null Count  Dtype          \n",
      "---  ------     --------------  -----          \n",
      " 0   Date       14221 non-null  datetime64[ns] \n",
      " 1   Starttime  14221 non-null  timedelta64[ns]\n",
      " 2   Endtime    14221 non-null  timedelta64[ns]\n",
      " 3   Activity   14221 non-null  object         \n",
      "dtypes: datetime64[ns](1), object(1), timedelta64[ns](2)\n",
      "memory usage: 444.5+ KB\n",
      "None\n"
     ]
    }
   ],
   "source": [
    "df = pd.read_csv(\"time-log-formatted.csv\")\n",
    "df = df[[\"Date\", \"Starttime\", \"Endtime\", \"Activity\"]]\n",
    "print(df.head(2))\n",
    "df[\"Date\"] = pd.to_datetime(df[\"Date\"], format='%m/%d/%y')\n",
    "print(\"Done\")\n",
    "# Had to sort starttime in excel, then scroll to bottom\n",
    "df[\"Starttime\"] = df[\"Starttime\"].apply(lambda row: addColon(row))\n",
    "df[\"Endtime\"] = df[\"Endtime\"].apply(lambda row: addColon(row))\n",
    "# print(df[\"Starttime\"], \"\\n\", df[\"Endtime\"])\n",
    "df[\"Starttime\"] = pd.to_timedelta(df[\"Starttime\"]+\":00\")   # https://stackoverflow.com/a/49144483/14717416\n",
    "# searched for \"-05 \", ... , \"-55\"\n",
    "df[\"Endtime\"] = pd.to_timedelta(df[\"Endtime\"]+\":00\")\n",
    "print(df)\n",
    "print(df.info())"
   ]
  },
  {
   "cell_type": "markdown",
   "metadata": {},
   "source": [
    "#### TODO: Separate combined time blocks to 0.66/0.33 and 0.5/0.33/0.17"
   ]
  },
  {
   "cell_type": "code",
   "execution_count": 4,
   "metadata": {},
   "outputs": [
    {
     "name": "stdout",
     "output_type": "stream",
     "text": [
      "['break' 'breakfast' 'planning' '108' 'lunch' 'games' '131a' 'career'\n",
      " 'exercise' 'dinner' 'CLA' 'TV' 'fys' 'appt' 'nap' 'help' 'prep' 'talk'\n",
      " '165a' '141a' '131b' '154a' 'UDCE' '302' 'OIT' '141b' 'health' 'plan'\n",
      " '171' '106' '137' 'internship' '167' 'bike' '168' 'walk' '131c' '010'\n",
      " '122a' 'outing' 'research' 'drive' 'bus' '135' '104' '141c' '130' '330'\n",
      " '141' '162' '160' '174'] \n",
      "\n",
      "{'137', '104', '135', '141c', 'drive', '141', '141b', 'internship', 'games', '131c', '131b', 'UDCE', 'OIT', 'outing', 'research', '162', '141a', 'nap', '108', '330', '171', '165a', 'fys', '302', 'talk', '131a', '168', '106', 'TV', '010', '130', 'CLA', '160', '154a', '122a', '174', '167'} \n",
      "\n",
      "To replace: {'talk', 'OIT', 'outing', 'TV', 'drive', 'internship', 'games', 'nap', 'research'}\n"
     ]
    }
   ],
   "source": [
    "# First, get valid activities and details\n",
    "# Separate them into groups: gen. activities, gen. classes, activities that should be details\n",
    "all_vals = df[\"Activity\"].unique()\n",
    "print(all_vals, \"\\n\")\n",
    "activities = ['break','breakfast','planning','lunch','career',\n",
    "              'exercise','dinner','sleep','appt','help','prep',\n",
    "              'health','plan','bike','walk','bus']\n",
    "print(set(all_vals) - set(activities), \"\\n\")\n",
    "classes = ['UDCE', '141b', '104', '135', '108', '137', '162', '171', '122a', '174', '131a', '168','167', 'CLA', 'fys', '330', '154a', '141a', '302', '130', '141c', '165a', '131c', '160', '141', '131b', '010', '106']\n",
    "print(\"To replace:\", set(all_vals) - set(activities) - set(classes))\n",
    "addActivity = ['nap', 'OIT', 'drive', 'games', 'research', 'outing', 'TV', 'talk', \"health\", \"internship\", \"sleep\", \"plan\"]"
   ]
  },
  {
   "cell_type": "code",
   "execution_count": 5,
   "metadata": {},
   "outputs": [
    {
     "name": "stdout",
     "output_type": "stream",
     "text": [
      "5 4\n",
      "4 3\n",
      "3 2\n",
      "2 1\n"
     ]
    }
   ],
   "source": [
    "for x in range(0,4):\n",
    "    print(5-x, 4-x)"
   ]
  },
  {
   "cell_type": "code",
   "execution_count": 6,
   "metadata": {
    "scrolled": true
   },
   "outputs": [
    {
     "name": "stdout",
     "output_type": "stream",
     "text": [
      "break\n",
      "breakfast\n",
      "planning\n",
      "lunch\n",
      "career\n",
      "exercise\n",
      "dinner\n",
      "sleep\n",
      "appt\n",
      "help\n",
      "prep\n",
      "health\n",
      "plan\n",
      "bike\n",
      "walk\n",
      "bus\n"
     ]
    }
   ],
   "source": [
    "for i in activities:\n",
    "    print(i)"
   ]
  },
  {
   "cell_type": "code",
   "execution_count": 7,
   "metadata": {
    "scrolled": false
   },
   "outputs": [
    {
     "name": "stdout",
     "output_type": "stream",
     "text": [
      "            Date       Starttime         Endtime   Activity\n",
      "0     2020-11-11 0 days 08:30:00 0 days 09:30:00      break\n",
      "1     2020-11-11 0 days 09:30:00 0 days 10:20:00  breakfast\n",
      "2     2020-11-11 0 days 10:20:00 0 days 10:45:00  breakfast\n",
      "3     2020-11-11 0 days 10:45:00 0 days 12:20:00   planning\n",
      "4     2020-11-11 0 days 12:20:00 0 days 12:30:00        108\n",
      "...          ...             ...             ...        ...\n",
      "14216 2022-04-30 0 days 20:15:00 0 days 21:50:00      break\n",
      "14217 2022-04-30 0 days 21:50:00 0 days 22:20:00      break\n",
      "14218 2022-04-30 0 days 22:20:00 0 days 23:05:00      break\n",
      "14219 2022-04-30 0 days 23:05:00 0 days 23:15:00        162\n",
      "14220 2022-04-30 0 days 23:15:00 0 days 23:55:00      break\n",
      "\n",
      "[14221 rows x 4 columns]\n",
      "df:             Date       Starttime         Endtime   Activity\n",
      "0     2020-11-11 0 days 08:30:00 0 days 09:30:00      break\n",
      "1     2020-11-11 0 days 09:30:00 0 days 10:20:00  breakfast\n",
      "2     2020-11-11 0 days 10:20:00 0 days 10:45:00  breakfast\n",
      "3     2020-11-11 0 days 10:45:00 0 days 12:20:00   planning\n",
      "4     2020-11-11 0 days 12:20:00 0 days 12:30:00        108\n",
      "...          ...             ...             ...        ...\n",
      "14216 2022-04-30 0 days 20:15:00 0 days 21:50:00      break\n",
      "14217 2022-04-30 0 days 21:50:00 0 days 22:20:00      break\n",
      "14218 2022-04-30 0 days 22:20:00 0 days 23:05:00      break\n",
      "14219 2022-04-30 0 days 23:05:00 0 days 23:15:00        162\n",
      "14220 2022-04-30 0 days 23:15:00 0 days 23:55:00      break\n",
      "\n",
      "[14221 rows x 4 columns]\n",
      "set()\n"
     ]
    }
   ],
   "source": [
    "## Correct the addActivity rows so they all have an associated activity\n",
    "# Assign the correct \n",
    "addActDict = {'nap':\"break\", 'OIT':\"appt\", 'drive':\"break\", 'games':\"break\", \n",
    "              'research':\"career\", 'outing':\"break\", 'TV':\"break\", \n",
    "              'talk':\"break\", \"health\":\"appt\", \"internship\":\"career\", \n",
    "              \"sleep\":\"break\", \"plan\":\"planning\"}\n",
    "\"\"\"def addAct(row):\n",
    "    print(row)\n",
    "    #if(row[\"Activity\"] in addActivity):\n",
    "    if(row in addActivity):\n",
    "        # Shift all the details right, truncate end and manually add Det1\n",
    "        # for i in range(0, 4):\n",
    "            # row[\"Det\"+str(5-i)] = row[\"Det\"+str(4-i)]\n",
    "        # row[\"Det1\"] = row[\"Activity\"]  ## TEMP. DISABLED\n",
    "        # Reassign Activity\n",
    "        return addActDict[row[\"Activity\"]]\n",
    "\n",
    "df[\"Activity\"] = df[\"Activity\"].apply(lambda row: addAct(row))\"\"\"\n",
    "df['Activity'] = df['Activity'].replace(addActDict)\n",
    "print(df)\n",
    "print(\"df:\",df)\n",
    "print(set(df[\"Activity\"].unique()) - set(activities) - set(classes))\n",
    "# for i in range(df.shape[0]):\n",
    "#     print(i, \"\\n\", sep=\"\")\n",
    "#     # row[\"Activity\"] = \"test value\"  # does not change original\n",
    "#     # print(row[\"Activity\"], \"\\n\")\n",
    "#     print(\"Row by reference:\\n\", df.iloc[i,:])\n",
    "#     df.iloc[i,:].Det5 = df.iloc[i,:].Activity\n",
    "#     print(\"After alteration:\\n\", df.iloc[i,:])\n",
    "#     break"
   ]
  },
  {
   "cell_type": "code",
   "execution_count": 8,
   "metadata": {},
   "outputs": [
    {
     "name": "stdout",
     "output_type": "stream",
     "text": [
      "2022-02-02 00:00:00\n",
      "536\n"
     ]
    }
   ],
   "source": [
    "tmp = pd.to_datetime(\"2022-02-01\")\n",
    "day = pd.to_timedelta(1, \"day\")\n",
    "print(tmp+day)\n",
    "print(len(df[\"Date\"].unique()))"
   ]
  },
  {
   "cell_type": "code",
   "execution_count": 9,
   "metadata": {
    "scrolled": true
   },
   "outputs": [
    {
     "name": "stdout",
     "output_type": "stream",
     "text": [
      "['2020-11-11', '2020-11-12', '2020-11-13', '2020-11-14', '2020-11-15', '2020-11-16', '2020-11-17', '2020-11-18', '2020-11-19', '2020-11-20'] \n",
      "\n"
     ]
    }
   ],
   "source": [
    "## Make sure all dates are present\n",
    "dates = [str(x)[:10] for x in df[\"Date\"].unique()]\n",
    "print(dates[:10], \"\\n\")\n",
    "temp = \"2020-11-11\"\n",
    "for date in dates[1:]:\n",
    "    #print(date, temp)\n",
    "    if(pd.to_datetime(temp)+day != pd.to_datetime(date)):\n",
    "        print(\"Missing:\", pd.to_datetime(temp)+day, pd.to_datetime(date))\n",
    "        #break\n",
    "    temp = date\n",
    "    #break"
   ]
  },
  {
   "cell_type": "code",
   "execution_count": 10,
   "metadata": {},
   "outputs": [
    {
     "data": {
      "text/html": [
       "<div>\n",
       "<style scoped>\n",
       "    .dataframe tbody tr th:only-of-type {\n",
       "        vertical-align: middle;\n",
       "    }\n",
       "\n",
       "    .dataframe tbody tr th {\n",
       "        vertical-align: top;\n",
       "    }\n",
       "\n",
       "    .dataframe thead th {\n",
       "        text-align: right;\n",
       "    }\n",
       "</style>\n",
       "<table border=\"1\" class=\"dataframe\">\n",
       "  <thead>\n",
       "    <tr style=\"text-align: right;\">\n",
       "      <th></th>\n",
       "      <th>Date</th>\n",
       "      <th>Starttime</th>\n",
       "      <th>Endtime</th>\n",
       "      <th>Activity</th>\n",
       "    </tr>\n",
       "  </thead>\n",
       "  <tbody>\n",
       "    <tr>\n",
       "      <th>0</th>\n",
       "      <td>2020-11-11</td>\n",
       "      <td>0 days 08:30:00</td>\n",
       "      <td>0 days 09:30:00</td>\n",
       "      <td>break</td>\n",
       "    </tr>\n",
       "    <tr>\n",
       "      <th>1</th>\n",
       "      <td>2020-11-11</td>\n",
       "      <td>0 days 09:30:00</td>\n",
       "      <td>0 days 10:20:00</td>\n",
       "      <td>breakfast</td>\n",
       "    </tr>\n",
       "    <tr>\n",
       "      <th>2</th>\n",
       "      <td>2020-11-11</td>\n",
       "      <td>0 days 10:20:00</td>\n",
       "      <td>0 days 10:45:00</td>\n",
       "      <td>breakfast</td>\n",
       "    </tr>\n",
       "    <tr>\n",
       "      <th>3</th>\n",
       "      <td>2020-11-11</td>\n",
       "      <td>0 days 10:45:00</td>\n",
       "      <td>0 days 12:20:00</td>\n",
       "      <td>planning</td>\n",
       "    </tr>\n",
       "    <tr>\n",
       "      <th>4</th>\n",
       "      <td>2020-11-11</td>\n",
       "      <td>0 days 12:20:00</td>\n",
       "      <td>0 days 12:30:00</td>\n",
       "      <td>108</td>\n",
       "    </tr>\n",
       "    <tr>\n",
       "      <th>...</th>\n",
       "      <td>...</td>\n",
       "      <td>...</td>\n",
       "      <td>...</td>\n",
       "      <td>...</td>\n",
       "    </tr>\n",
       "    <tr>\n",
       "      <th>14216</th>\n",
       "      <td>2022-04-30</td>\n",
       "      <td>0 days 20:15:00</td>\n",
       "      <td>0 days 21:50:00</td>\n",
       "      <td>break</td>\n",
       "    </tr>\n",
       "    <tr>\n",
       "      <th>14217</th>\n",
       "      <td>2022-04-30</td>\n",
       "      <td>0 days 21:50:00</td>\n",
       "      <td>0 days 22:20:00</td>\n",
       "      <td>break</td>\n",
       "    </tr>\n",
       "    <tr>\n",
       "      <th>14218</th>\n",
       "      <td>2022-04-30</td>\n",
       "      <td>0 days 22:20:00</td>\n",
       "      <td>0 days 23:05:00</td>\n",
       "      <td>break</td>\n",
       "    </tr>\n",
       "    <tr>\n",
       "      <th>14219</th>\n",
       "      <td>2022-04-30</td>\n",
       "      <td>0 days 23:05:00</td>\n",
       "      <td>0 days 23:15:00</td>\n",
       "      <td>162</td>\n",
       "    </tr>\n",
       "    <tr>\n",
       "      <th>14220</th>\n",
       "      <td>2022-04-30</td>\n",
       "      <td>0 days 23:15:00</td>\n",
       "      <td>0 days 23:55:00</td>\n",
       "      <td>break</td>\n",
       "    </tr>\n",
       "  </tbody>\n",
       "</table>\n",
       "<p>14221 rows × 4 columns</p>\n",
       "</div>"
      ],
      "text/plain": [
       "            Date       Starttime         Endtime   Activity\n",
       "0     2020-11-11 0 days 08:30:00 0 days 09:30:00      break\n",
       "1     2020-11-11 0 days 09:30:00 0 days 10:20:00  breakfast\n",
       "2     2020-11-11 0 days 10:20:00 0 days 10:45:00  breakfast\n",
       "3     2020-11-11 0 days 10:45:00 0 days 12:20:00   planning\n",
       "4     2020-11-11 0 days 12:20:00 0 days 12:30:00        108\n",
       "...          ...             ...             ...        ...\n",
       "14216 2022-04-30 0 days 20:15:00 0 days 21:50:00      break\n",
       "14217 2022-04-30 0 days 21:50:00 0 days 22:20:00      break\n",
       "14218 2022-04-30 0 days 22:20:00 0 days 23:05:00      break\n",
       "14219 2022-04-30 0 days 23:05:00 0 days 23:15:00        162\n",
       "14220 2022-04-30 0 days 23:15:00 0 days 23:55:00      break\n",
       "\n",
       "[14221 rows x 4 columns]"
      ]
     },
     "execution_count": 10,
     "metadata": {},
     "output_type": "execute_result"
    }
   ],
   "source": [
    "## Now look at Det1, keep \"ok\" values only \n",
    "# df[\"Det1\"].unique()\n",
    "## Remove words that have no definition\n",
    "df"
   ]
  },
  {
   "cell_type": "code",
   "execution_count": 11,
   "metadata": {
    "scrolled": true
   },
   "outputs": [
    {
     "name": "stdout",
     "output_type": "stream",
     "text": [
      "(14221, 4)\n"
     ]
    },
    {
     "name": "stderr",
     "output_type": "stream",
     "text": [
      "16it [00:00, 54.11it/s]"
     ]
    },
    {
     "name": "stdout",
     "output_type": "stream",
     "text": [
      "Row: 0\n"
     ]
    },
    {
     "name": "stderr",
     "output_type": "stream",
     "text": [
      "164it [00:00, 295.45it/s]"
     ]
    },
    {
     "name": "stdout",
     "output_type": "stream",
     "text": [
      "Row: 100\n"
     ]
    },
    {
     "name": "stderr",
     "output_type": "stream",
     "text": [
      "302it [00:01, 407.01it/s]"
     ]
    },
    {
     "name": "stdout",
     "output_type": "stream",
     "text": [
      "Row: 200\n",
      "Row: 300\n"
     ]
    },
    {
     "name": "stderr",
     "output_type": "stream",
     "text": [
      "449it [00:01, 401.36it/s]"
     ]
    },
    {
     "name": "stdout",
     "output_type": "stream",
     "text": [
      "Row: 400\n"
     ]
    },
    {
     "name": "stderr",
     "output_type": "stream",
     "text": [
      "526it [00:01, 289.52it/s]"
     ]
    },
    {
     "name": "stdout",
     "output_type": "stream",
     "text": [
      "Row: 500\n"
     ]
    },
    {
     "name": "stderr",
     "output_type": "stream",
     "text": [
      "663it [00:02, 298.54it/s]"
     ]
    },
    {
     "name": "stdout",
     "output_type": "stream",
     "text": [
      "Row: 600\n"
     ]
    },
    {
     "name": "stderr",
     "output_type": "stream",
     "text": [
      "780it [00:02, 365.70it/s]"
     ]
    },
    {
     "name": "stdout",
     "output_type": "stream",
     "text": [
      "Row: 700\n"
     ]
    },
    {
     "name": "stderr",
     "output_type": "stream",
     "text": [
      "886it [00:02, 445.13it/s]"
     ]
    },
    {
     "name": "stdout",
     "output_type": "stream",
     "text": [
      "Row: 800\n",
      "Row: 900\n"
     ]
    },
    {
     "name": "stderr",
     "output_type": "stream",
     "text": [
      "1039it [00:03, 472.76it/s]"
     ]
    },
    {
     "name": "stdout",
     "output_type": "stream",
     "text": [
      "Row: 1000\n"
     ]
    },
    {
     "name": "stderr",
     "output_type": "stream",
     "text": [
      "1189it [00:03, 464.86it/s]"
     ]
    },
    {
     "name": "stdout",
     "output_type": "stream",
     "text": [
      "Row: 1100\n"
     ]
    },
    {
     "name": "stderr",
     "output_type": "stream",
     "text": [
      "1282it [00:03, 429.19it/s]"
     ]
    },
    {
     "name": "stdout",
     "output_type": "stream",
     "text": [
      "Row: 1200\n"
     ]
    },
    {
     "name": "stderr",
     "output_type": "stream",
     "text": [
      "1375it [00:04, 444.77it/s]"
     ]
    },
    {
     "name": "stdout",
     "output_type": "stream",
     "text": [
      "Row: 1300\n"
     ]
    },
    {
     "name": "stderr",
     "output_type": "stream",
     "text": [
      "1469it [00:04, 412.92it/s]"
     ]
    },
    {
     "name": "stdout",
     "output_type": "stream",
     "text": [
      "Row: 1400\n",
      "Row: 1500\n"
     ]
    },
    {
     "name": "stderr",
     "output_type": "stream",
     "text": [
      "1696it [00:04, 511.31it/s]"
     ]
    },
    {
     "name": "stdout",
     "output_type": "stream",
     "text": [
      "Row: 1600\n",
      "Row: 1700\n"
     ]
    },
    {
     "name": "stderr",
     "output_type": "stream",
     "text": [
      "1913it [00:05, 512.86it/s]"
     ]
    },
    {
     "name": "stdout",
     "output_type": "stream",
     "text": [
      "Row: 1800\n",
      "Row: 1900\n"
     ]
    },
    {
     "name": "stderr",
     "output_type": "stream",
     "text": [
      "2069it [00:05, 482.77it/s]"
     ]
    },
    {
     "name": "stdout",
     "output_type": "stream",
     "text": [
      "Row: 2000\n"
     ]
    },
    {
     "name": "stderr",
     "output_type": "stream",
     "text": [
      "2161it [00:05, 378.88it/s]"
     ]
    },
    {
     "name": "stdout",
     "output_type": "stream",
     "text": [
      "Row: 2100\n"
     ]
    },
    {
     "name": "stderr",
     "output_type": "stream",
     "text": [
      "2242it [00:06, 373.93it/s]"
     ]
    },
    {
     "name": "stdout",
     "output_type": "stream",
     "text": [
      "Row: 2200\n"
     ]
    },
    {
     "name": "stderr",
     "output_type": "stream",
     "text": [
      "2350it [00:06, 443.37it/s]"
     ]
    },
    {
     "name": "stdout",
     "output_type": "stream",
     "text": [
      "Row: 2300\n"
     ]
    },
    {
     "name": "stderr",
     "output_type": "stream",
     "text": [
      "2450it [00:06, 459.03it/s]"
     ]
    },
    {
     "name": "stdout",
     "output_type": "stream",
     "text": [
      "Row: 2400\n",
      "Row: 2500\n"
     ]
    },
    {
     "name": "stderr",
     "output_type": "stream",
     "text": [
      "2667it [00:06, 521.23it/s]"
     ]
    },
    {
     "name": "stdout",
     "output_type": "stream",
     "text": [
      "Row: 2600\n",
      "Row: 2700\n"
     ]
    },
    {
     "name": "stderr",
     "output_type": "stream",
     "text": [
      "2912it [00:07, 581.78it/s]"
     ]
    },
    {
     "name": "stdout",
     "output_type": "stream",
     "text": [
      "Row: 2800\n",
      "Row: 2900\n"
     ]
    },
    {
     "name": "stderr",
     "output_type": "stream",
     "text": [
      "3111it [00:07, 623.39it/s]"
     ]
    },
    {
     "name": "stdout",
     "output_type": "stream",
     "text": [
      "Row: 3000\n",
      "Row: 3100\n"
     ]
    },
    {
     "name": "stderr",
     "output_type": "stream",
     "text": [
      "3292it [00:07, 528.41it/s]"
     ]
    },
    {
     "name": "stdout",
     "output_type": "stream",
     "text": [
      "Row: 3200\n"
     ]
    },
    {
     "name": "stderr",
     "output_type": "stream",
     "text": [
      "3401it [00:08, 517.01it/s]"
     ]
    },
    {
     "name": "stdout",
     "output_type": "stream",
     "text": [
      "Row: 3300\n",
      "Row: 3400\n"
     ]
    },
    {
     "name": "stderr",
     "output_type": "stream",
     "text": [
      "3564it [00:08, 496.92it/s]"
     ]
    },
    {
     "name": "stdout",
     "output_type": "stream",
     "text": [
      "Row: 3500\n",
      "Row: 3600\n"
     ]
    },
    {
     "name": "stderr",
     "output_type": "stream",
     "text": [
      "3780it [00:08, 514.83it/s]"
     ]
    },
    {
     "name": "stdout",
     "output_type": "stream",
     "text": [
      "Row: 3700\n",
      "Row: "
     ]
    },
    {
     "name": "stderr",
     "output_type": "stream",
     "text": [
      "3882it [00:09, 479.95it/s]"
     ]
    },
    {
     "name": "stdout",
     "output_type": "stream",
     "text": [
      "3800\n"
     ]
    },
    {
     "name": "stderr",
     "output_type": "stream",
     "text": [
      "3977it [00:09, 448.36it/s]"
     ]
    },
    {
     "name": "stdout",
     "output_type": "stream",
     "text": [
      "Row: 3900\n"
     ]
    },
    {
     "name": "stderr",
     "output_type": "stream",
     "text": [
      "4074it [00:09, 464.81it/s]"
     ]
    },
    {
     "name": "stdout",
     "output_type": "stream",
     "text": [
      "Row: 4000\n",
      "Row: 4100\n"
     ]
    },
    {
     "name": "stderr",
     "output_type": "stream",
     "text": [
      "4244it [00:09, 486.66it/s]"
     ]
    },
    {
     "name": "stdout",
     "output_type": "stream",
     "text": [
      "Row: 4200\n"
     ]
    },
    {
     "name": "stderr",
     "output_type": "stream",
     "text": [
      "4393it [00:10, 468.73it/s]"
     ]
    },
    {
     "name": "stdout",
     "output_type": "stream",
     "text": [
      "Row: 4300\n"
     ]
    },
    {
     "name": "stderr",
     "output_type": "stream",
     "text": [
      "4512it [00:10, 530.04it/s]"
     ]
    },
    {
     "name": "stdout",
     "output_type": "stream",
     "text": [
      "Row: 4400\n",
      "Row: 4500\n"
     ]
    },
    {
     "name": "stderr",
     "output_type": "stream",
     "text": [
      "4641it [00:10, 546.14it/s]"
     ]
    },
    {
     "name": "stdout",
     "output_type": "stream",
     "text": [
      "Row: 4600\n"
     ]
    },
    {
     "name": "stderr",
     "output_type": "stream",
     "text": [
      "4752it [00:10, 477.99it/s]"
     ]
    },
    {
     "name": "stdout",
     "output_type": "stream",
     "text": [
      "Row: 4700\n"
     ]
    },
    {
     "name": "stderr",
     "output_type": "stream",
     "text": [
      "4850it [00:11, 446.76it/s]"
     ]
    },
    {
     "name": "stdout",
     "output_type": "stream",
     "text": [
      "Row: 4800\n"
     ]
    },
    {
     "name": "stderr",
     "output_type": "stream",
     "text": [
      "4961it [00:11, 491.90it/s]"
     ]
    },
    {
     "name": "stdout",
     "output_type": "stream",
     "text": [
      "Row: 4900\n",
      "Row: 5000\n"
     ]
    },
    {
     "name": "stderr",
     "output_type": "stream",
     "text": [
      "5162it [00:11, 420.47it/s]"
     ]
    },
    {
     "name": "stdout",
     "output_type": "stream",
     "text": [
      "Row: 5100\n"
     ]
    },
    {
     "name": "stderr",
     "output_type": "stream",
     "text": [
      "5250it [00:12, 381.03it/s]"
     ]
    },
    {
     "name": "stdout",
     "output_type": "stream",
     "text": [
      "Row: 5200\n"
     ]
    },
    {
     "name": "stderr",
     "output_type": "stream",
     "text": [
      "5354it [00:12, 444.19it/s]"
     ]
    },
    {
     "name": "stdout",
     "output_type": "stream",
     "text": [
      "Row: 5300\n",
      "Row: 5400\n"
     ]
    },
    {
     "name": "stderr",
     "output_type": "stream",
     "text": [
      "5598it [00:12, 549.39it/s]"
     ]
    },
    {
     "name": "stdout",
     "output_type": "stream",
     "text": [
      "Row: 5500\n",
      "Row: 5600\n"
     ]
    },
    {
     "name": "stderr",
     "output_type": "stream",
     "text": [
      "5754it [00:13, 339.32it/s]"
     ]
    },
    {
     "name": "stdout",
     "output_type": "stream",
     "text": [
      "Row: 5700\n"
     ]
    },
    {
     "name": "stderr",
     "output_type": "stream",
     "text": [
      "5889it [00:13, 400.46it/s]"
     ]
    },
    {
     "name": "stdout",
     "output_type": "stream",
     "text": [
      "Row: 5800\n"
     ]
    },
    {
     "name": "stderr",
     "output_type": "stream",
     "text": [
      "\r",
      "5943it [00:13, 436.34it/s]"
     ]
    },
    {
     "name": "stdout",
     "output_type": "stream",
     "text": [
      "Row: 5900\n"
     ]
    },
    {
     "name": "stderr",
     "output_type": "stream",
     "text": [
      "6077it [00:14, 406.14it/s]"
     ]
    },
    {
     "name": "stdout",
     "output_type": "stream",
     "text": [
      "Row: 6000\n"
     ]
    },
    {
     "name": "stderr",
     "output_type": "stream",
     "text": [
      "6170it [00:14, 424.26it/s]"
     ]
    },
    {
     "name": "stdout",
     "output_type": "stream",
     "text": [
      "Row: 6100\n"
     ]
    },
    {
     "name": "stderr",
     "output_type": "stream",
     "text": [
      "6255it [00:14, 393.73it/s]"
     ]
    },
    {
     "name": "stdout",
     "output_type": "stream",
     "text": [
      "Row: 6200\n"
     ]
    },
    {
     "name": "stderr",
     "output_type": "stream",
     "text": [
      "6346it [00:14, 363.95it/s]"
     ]
    },
    {
     "name": "stdout",
     "output_type": "stream",
     "text": [
      "Row: 6300\n"
     ]
    },
    {
     "name": "stderr",
     "output_type": "stream",
     "text": [
      "6461it [00:15, 362.18it/s]"
     ]
    },
    {
     "name": "stdout",
     "output_type": "stream",
     "text": [
      "Row: 6400\n"
     ]
    },
    {
     "name": "stderr",
     "output_type": "stream",
     "text": [
      "6538it [00:15, 326.51it/s]"
     ]
    },
    {
     "name": "stdout",
     "output_type": "stream",
     "text": [
      "Row: 6500\n"
     ]
    },
    {
     "name": "stderr",
     "output_type": "stream",
     "text": [
      "6644it [00:15, 292.67it/s]"
     ]
    },
    {
     "name": "stdout",
     "output_type": "stream",
     "text": [
      "Row: 6600\n"
     ]
    },
    {
     "name": "stderr",
     "output_type": "stream",
     "text": [
      "6758it [00:16, 336.59it/s]"
     ]
    },
    {
     "name": "stdout",
     "output_type": "stream",
     "text": [
      "Row: 6700\n"
     ]
    },
    {
     "name": "stderr",
     "output_type": "stream",
     "text": [
      "6826it [00:16, 280.23it/s]"
     ]
    },
    {
     "name": "stdout",
     "output_type": "stream",
     "text": [
      "Row: 6800\n"
     ]
    },
    {
     "name": "stderr",
     "output_type": "stream",
     "text": [
      "6952it [00:16, 291.90it/s]"
     ]
    },
    {
     "name": "stdout",
     "output_type": "stream",
     "text": [
      "Row: 6900\n"
     ]
    },
    {
     "name": "stderr",
     "output_type": "stream",
     "text": [
      "7072it [00:17, 360.23it/s]"
     ]
    },
    {
     "name": "stdout",
     "output_type": "stream",
     "text": [
      "Row: 7000\n"
     ]
    },
    {
     "name": "stderr",
     "output_type": "stream",
     "text": [
      "7160it [00:17, 395.54it/s]"
     ]
    },
    {
     "name": "stdout",
     "output_type": "stream",
     "text": [
      "Row: 7100\n"
     ]
    },
    {
     "name": "stderr",
     "output_type": "stream",
     "text": [
      "7246it [00:17, 398.47it/s]"
     ]
    },
    {
     "name": "stdout",
     "output_type": "stream",
     "text": [
      "Row: 7200\n"
     ]
    },
    {
     "name": "stderr",
     "output_type": "stream",
     "text": [
      "7370it [00:17, 373.01it/s]"
     ]
    },
    {
     "name": "stdout",
     "output_type": "stream",
     "text": [
      "Row: 7300\n"
     ]
    },
    {
     "name": "stderr",
     "output_type": "stream",
     "text": [
      "7441it [00:18, 311.94it/s]"
     ]
    },
    {
     "name": "stdout",
     "output_type": "stream",
     "text": [
      "Row: 7400\n"
     ]
    },
    {
     "name": "stderr",
     "output_type": "stream",
     "text": [
      "7540it [00:18, 262.41it/s]"
     ]
    },
    {
     "name": "stdout",
     "output_type": "stream",
     "text": [
      "Row: 7500\n"
     ]
    },
    {
     "name": "stderr",
     "output_type": "stream",
     "text": [
      "7651it [00:18, 321.98it/s]"
     ]
    },
    {
     "name": "stdout",
     "output_type": "stream",
     "text": [
      "Row: 7600\n"
     ]
    },
    {
     "name": "stderr",
     "output_type": "stream",
     "text": [
      "7771it [00:19, 349.61it/s]"
     ]
    },
    {
     "name": "stdout",
     "output_type": "stream",
     "text": [
      "Row: 7700\n"
     ]
    },
    {
     "name": "stderr",
     "output_type": "stream",
     "text": [
      "\r",
      "7816it [00:19, 376.29it/s]"
     ]
    },
    {
     "name": "stdout",
     "output_type": "stream",
     "text": [
      "Row: 7800\n"
     ]
    },
    {
     "name": "stderr",
     "output_type": "stream",
     "text": [
      "7961it [00:19, 326.28it/s]"
     ]
    },
    {
     "name": "stdout",
     "output_type": "stream",
     "text": [
      "Row: 7900\n"
     ]
    },
    {
     "name": "stderr",
     "output_type": "stream",
     "text": [
      "8028it [00:20, 297.44it/s]"
     ]
    },
    {
     "name": "stdout",
     "output_type": "stream",
     "text": [
      "Row: 8000\n"
     ]
    },
    {
     "name": "stderr",
     "output_type": "stream",
     "text": [
      "8134it [00:20, 298.56it/s]"
     ]
    },
    {
     "name": "stdout",
     "output_type": "stream",
     "text": [
      "Row: 8100\n"
     ]
    },
    {
     "name": "stderr",
     "output_type": "stream",
     "text": [
      "8247it [00:20, 342.50it/s]"
     ]
    },
    {
     "name": "stdout",
     "output_type": "stream",
     "text": [
      "Row: 8200\n"
     ]
    },
    {
     "name": "stderr",
     "output_type": "stream",
     "text": [
      "8375it [00:21, 396.29it/s]"
     ]
    },
    {
     "name": "stdout",
     "output_type": "stream",
     "text": [
      "Row: 8300\n"
     ]
    },
    {
     "name": "stderr",
     "output_type": "stream",
     "text": [
      "8457it [00:21, 397.16it/s]"
     ]
    },
    {
     "name": "stdout",
     "output_type": "stream",
     "text": [
      "Row: 8400\n"
     ]
    },
    {
     "name": "stderr",
     "output_type": "stream",
     "text": [
      "8598it [00:21, 440.36it/s]"
     ]
    },
    {
     "name": "stdout",
     "output_type": "stream",
     "text": [
      "Row: 8500\n",
      "Row: 8600\n"
     ]
    },
    {
     "name": "stderr",
     "output_type": "stream",
     "text": [
      "8757it [00:21, 484.47it/s]"
     ]
    },
    {
     "name": "stdout",
     "output_type": "stream",
     "text": [
      "Row: 8700\n"
     ]
    },
    {
     "name": "stderr",
     "output_type": "stream",
     "text": [
      "8852it [00:22, 430.39it/s]"
     ]
    },
    {
     "name": "stdout",
     "output_type": "stream",
     "text": [
      "Row: 8800\n"
     ]
    },
    {
     "name": "stderr",
     "output_type": "stream",
     "text": [
      "8937it [00:22, 377.06it/s]"
     ]
    },
    {
     "name": "stdout",
     "output_type": "stream",
     "text": [
      "Row: 8900\n"
     ]
    },
    {
     "name": "stderr",
     "output_type": "stream",
     "text": [
      "9101it [00:22, 481.82it/s]"
     ]
    },
    {
     "name": "stdout",
     "output_type": "stream",
     "text": [
      "Row: 9000\n",
      "Row: 9100\n"
     ]
    },
    {
     "name": "stderr",
     "output_type": "stream",
     "text": [
      "9270it [00:23, 524.94it/s]"
     ]
    },
    {
     "name": "stdout",
     "output_type": "stream",
     "text": [
      "Row: 9200\n",
      "Row: 9300\n"
     ]
    },
    {
     "name": "stderr",
     "output_type": "stream",
     "text": [
      "9484it [00:23, 487.56it/s]"
     ]
    },
    {
     "name": "stdout",
     "output_type": "stream",
     "text": [
      "Row: 9400\n"
     ]
    },
    {
     "name": "stderr",
     "output_type": "stream",
     "text": [
      "9602it [00:23, 525.06it/s]"
     ]
    },
    {
     "name": "stdout",
     "output_type": "stream",
     "text": [
      "Row: 9500\n",
      "Row: 9600\n"
     ]
    },
    {
     "name": "stderr",
     "output_type": "stream",
     "text": [
      "9774it [00:24, 511.82it/s]"
     ]
    },
    {
     "name": "stdout",
     "output_type": "stream",
     "text": [
      "Row: 9700\n",
      "Row: 9800\n"
     ]
    },
    {
     "name": "stderr",
     "output_type": "stream",
     "text": [
      "10004it [00:24, 508.20it/s]"
     ]
    },
    {
     "name": "stdout",
     "output_type": "stream",
     "text": [
      "Row: 9900\n",
      "Row: 10000\n"
     ]
    },
    {
     "name": "stderr",
     "output_type": "stream",
     "text": [
      "10167it [00:24, 493.78it/s]"
     ]
    },
    {
     "name": "stdout",
     "output_type": "stream",
     "text": [
      "Row: 10100\n",
      "Row: 10200\n"
     ]
    },
    {
     "name": "stderr",
     "output_type": "stream",
     "text": [
      "10369it [00:25, 435.97it/s]"
     ]
    },
    {
     "name": "stdout",
     "output_type": "stream",
     "text": [
      "Row: 10300\n"
     ]
    },
    {
     "name": "stderr",
     "output_type": "stream",
     "text": [
      "\r",
      "10414it [00:25, 410.41it/s]"
     ]
    },
    {
     "name": "stdout",
     "output_type": "stream",
     "text": [
      "Row: 10400\n"
     ]
    },
    {
     "name": "stderr",
     "output_type": "stream",
     "text": [
      "10562it [00:25, 421.81it/s]"
     ]
    },
    {
     "name": "stdout",
     "output_type": "stream",
     "text": [
      "Row: 10500\n"
     ]
    },
    {
     "name": "stderr",
     "output_type": "stream",
     "text": [
      "10678it [00:26, 485.44it/s]"
     ]
    },
    {
     "name": "stdout",
     "output_type": "stream",
     "text": [
      "Row: 10600\n",
      "Row: 10700\n"
     ]
    },
    {
     "name": "stderr",
     "output_type": "stream",
     "text": [
      "10862it [00:26, 396.29it/s]"
     ]
    },
    {
     "name": "stdout",
     "output_type": "stream",
     "text": [
      "Row: 10800\n"
     ]
    },
    {
     "name": "stderr",
     "output_type": "stream",
     "text": [
      "10945it [00:26, 395.32it/s]"
     ]
    },
    {
     "name": "stdout",
     "output_type": "stream",
     "text": [
      "Row: 10900\n"
     ]
    },
    {
     "name": "stderr",
     "output_type": "stream",
     "text": [
      "11085it [00:27, 414.92it/s]"
     ]
    },
    {
     "name": "stdout",
     "output_type": "stream",
     "text": [
      "Row: 11000\n"
     ]
    },
    {
     "name": "stderr",
     "output_type": "stream",
     "text": [
      "\r",
      "11128it [00:27, 361.80it/s]"
     ]
    },
    {
     "name": "stdout",
     "output_type": "stream",
     "text": [
      "Row: 11100\n"
     ]
    },
    {
     "name": "stderr",
     "output_type": "stream",
     "text": [
      "11255it [00:27, 356.20it/s]"
     ]
    },
    {
     "name": "stdout",
     "output_type": "stream",
     "text": [
      "Row: 11200\n"
     ]
    },
    {
     "name": "stderr",
     "output_type": "stream",
     "text": [
      "11379it [00:27, 387.77it/s]"
     ]
    },
    {
     "name": "stdout",
     "output_type": "stream",
     "text": [
      "Row: 11300\n"
     ]
    },
    {
     "name": "stderr",
     "output_type": "stream",
     "text": [
      "11464it [00:28, 402.39it/s]"
     ]
    },
    {
     "name": "stdout",
     "output_type": "stream",
     "text": [
      "Row: 11400\n"
     ]
    },
    {
     "name": "stderr",
     "output_type": "stream",
     "text": [
      "11551it [00:28, 404.79it/s]"
     ]
    },
    {
     "name": "stdout",
     "output_type": "stream",
     "text": [
      "Row: 11500\n",
      "Row: 11600\n"
     ]
    },
    {
     "name": "stderr",
     "output_type": "stream",
     "text": [
      "11748it [00:28, 413.51it/s]"
     ]
    },
    {
     "name": "stdout",
     "output_type": "stream",
     "text": [
      "Row: 11700\n"
     ]
    },
    {
     "name": "stderr",
     "output_type": "stream",
     "text": [
      "11841it [00:29, 372.46it/s]"
     ]
    },
    {
     "name": "stdout",
     "output_type": "stream",
     "text": [
      "Row: 11800\n"
     ]
    },
    {
     "name": "stderr",
     "output_type": "stream",
     "text": [
      "11971it [00:29, 398.00it/s]"
     ]
    },
    {
     "name": "stdout",
     "output_type": "stream",
     "text": [
      "Row: 11900\n"
     ]
    },
    {
     "name": "stderr",
     "output_type": "stream",
     "text": [
      "12057it [00:29, 355.26it/s]"
     ]
    },
    {
     "name": "stdout",
     "output_type": "stream",
     "text": [
      "Row: 12000\n"
     ]
    },
    {
     "name": "stderr",
     "output_type": "stream",
     "text": [
      "12187it [00:29, 400.44it/s]"
     ]
    },
    {
     "name": "stdout",
     "output_type": "stream",
     "text": [
      "Row: 12100\n"
     ]
    },
    {
     "name": "stderr",
     "output_type": "stream",
     "text": [
      "12281it [00:30, 402.42it/s]"
     ]
    },
    {
     "name": "stdout",
     "output_type": "stream",
     "text": [
      "Row: 12200\n"
     ]
    },
    {
     "name": "stderr",
     "output_type": "stream",
     "text": [
      "\r",
      "12323it [00:30, 405.52it/s]"
     ]
    },
    {
     "name": "stdout",
     "output_type": "stream",
     "text": [
      "Row: 12300\n"
     ]
    },
    {
     "name": "stderr",
     "output_type": "stream",
     "text": [
      "12478it [00:30, 414.62it/s]"
     ]
    },
    {
     "name": "stdout",
     "output_type": "stream",
     "text": [
      "Row: 12400\n"
     ]
    },
    {
     "name": "stderr",
     "output_type": "stream",
     "text": [
      "12576it [00:31, 405.01it/s]"
     ]
    },
    {
     "name": "stdout",
     "output_type": "stream",
     "text": [
      "Row: 12500\n"
     ]
    },
    {
     "name": "stderr",
     "output_type": "stream",
     "text": [
      "12673it [00:31, 409.85it/s]"
     ]
    },
    {
     "name": "stdout",
     "output_type": "stream",
     "text": [
      "Row: 12600\n"
     ]
    },
    {
     "name": "stderr",
     "output_type": "stream",
     "text": [
      "12758it [00:31, 358.56it/s]"
     ]
    },
    {
     "name": "stdout",
     "output_type": "stream",
     "text": [
      "Row: 12700\n"
     ]
    },
    {
     "name": "stderr",
     "output_type": "stream",
     "text": [
      "12875it [00:31, 341.62it/s]"
     ]
    },
    {
     "name": "stdout",
     "output_type": "stream",
     "text": [
      "Row: 12800\n"
     ]
    },
    {
     "name": "stderr",
     "output_type": "stream",
     "text": [
      "12953it [00:32, 337.81it/s]"
     ]
    },
    {
     "name": "stdout",
     "output_type": "stream",
     "text": [
      "Row: 12900\n"
     ]
    },
    {
     "name": "stderr",
     "output_type": "stream",
     "text": [
      "13039it [00:32, 354.16it/s]"
     ]
    },
    {
     "name": "stdout",
     "output_type": "stream",
     "text": [
      "Row: 13000\n"
     ]
    },
    {
     "name": "stderr",
     "output_type": "stream",
     "text": [
      "13166it [00:32, 404.44it/s]"
     ]
    },
    {
     "name": "stdout",
     "output_type": "stream",
     "text": [
      "Row: 13100\n"
     ]
    },
    {
     "name": "stderr",
     "output_type": "stream",
     "text": [
      "13246it [00:32, 327.85it/s]"
     ]
    },
    {
     "name": "stdout",
     "output_type": "stream",
     "text": [
      "Row: 13200\n"
     ]
    },
    {
     "name": "stderr",
     "output_type": "stream",
     "text": [
      "13352it [00:33, 282.29it/s]"
     ]
    },
    {
     "name": "stdout",
     "output_type": "stream",
     "text": [
      "Row: 13300\n"
     ]
    },
    {
     "name": "stderr",
     "output_type": "stream",
     "text": [
      "13427it [00:33, 281.02it/s]"
     ]
    },
    {
     "name": "stdout",
     "output_type": "stream",
     "text": [
      "Row: 13400\n"
     ]
    },
    {
     "name": "stderr",
     "output_type": "stream",
     "text": [
      "13567it [00:34, 319.68it/s]"
     ]
    },
    {
     "name": "stdout",
     "output_type": "stream",
     "text": [
      "Row: 13500\n"
     ]
    },
    {
     "name": "stderr",
     "output_type": "stream",
     "text": [
      "13638it [00:34, 309.01it/s]"
     ]
    },
    {
     "name": "stdout",
     "output_type": "stream",
     "text": [
      "Row: 13600\n"
     ]
    },
    {
     "name": "stderr",
     "output_type": "stream",
     "text": [
      "13749it [00:34, 307.94it/s]"
     ]
    },
    {
     "name": "stdout",
     "output_type": "stream",
     "text": [
      "Row: 13700\n"
     ]
    },
    {
     "name": "stderr",
     "output_type": "stream",
     "text": [
      "13833it [00:34, 351.43it/s]"
     ]
    },
    {
     "name": "stdout",
     "output_type": "stream",
     "text": [
      "Row: 13800\n"
     ]
    },
    {
     "name": "stderr",
     "output_type": "stream",
     "text": [
      "13943it [00:35, 328.95it/s]"
     ]
    },
    {
     "name": "stdout",
     "output_type": "stream",
     "text": [
      "Row: 13900\n"
     ]
    },
    {
     "name": "stderr",
     "output_type": "stream",
     "text": [
      "14036it [00:35, 347.97it/s]"
     ]
    },
    {
     "name": "stdout",
     "output_type": "stream",
     "text": [
      "Row: 14000\n"
     ]
    },
    {
     "name": "stderr",
     "output_type": "stream",
     "text": [
      "14164it [00:35, 388.32it/s]"
     ]
    },
    {
     "name": "stdout",
     "output_type": "stream",
     "text": [
      "Row: 14100\n",
      "Row: 14200\n"
     ]
    },
    {
     "name": "stderr",
     "output_type": "stream",
     "text": [
      "14221it [00:35, 395.27it/s]\n"
     ]
    }
   ],
   "source": [
    "## Turn time blocks into multiple 5-minute instants\n",
    "i = 0\n",
    "with open('time-log-clean-anon.csv', 'w') as f:\n",
    "    f.write(\"Time,Activity\\n\")\n",
    "print(df.shape)\n",
    "for rowtup in tqdm(df.iterrows()):\n",
    "    if(i%100==0):\n",
    "        print(\"Row:\",i)\n",
    "    rowind = rowtup[0]\n",
    "    data = rowtup[1]\n",
    "#     print(rowind, \"\\n\", data)\n",
    "#     print(\"\\nCan add datetime64 + timedelta64:\", data[0]+data[1])\n",
    "#     print(\"\\nCan divide times:\", (data[2]-data[1])/5)\n",
    "#     print(\"\\nCan cast as int:\", ((data[2]-data[1])/5/60).seconds)\n",
    "    num_reps = ((data[\"Endtime\"]-data[\"Starttime\"])/5/60).seconds\n",
    "    if(data[\"Endtime\"]-data[\"Starttime\"] != abs(data[\"Endtime\"]-data[\"Starttime\"])):\n",
    "        print(\"====\", rowtup)\n",
    "    for rep in range(0, num_reps):\n",
    "        mins = pd.to_timedelta(\"00:05:00\")*rep\n",
    "        rowdict = {\"Time\":data[0]+data[1]+mins,    # Date + Start_time + 5_Minute_Increments\n",
    "                   \"Activity\":data[\"Activity\"]}\n",
    "                   #\"Detail_1\":data[\"Det1\"], \n",
    "                   #\"Detail_2\":data[\"Det2\"], \n",
    "                   #\"Detail_3\":data[\"Det3\"]}\n",
    "        \n",
    "        with open('time-log-clean-anon.csv', 'a') as f:\n",
    "            f.write(\"{},{}\\n\".format(rowdict[\"Time\"], rowdict[\"Activity\"]))\n",
    "    i += 1\n",
    "    \n",
    "    #DEBUG: there seem to be no middle-of-night data? \n",
    "    # Starts at 2021-04-13\n",
    "#     if(str(data.Date)[:10]==\"2021-04-15\" and i>=200):\n",
    "#         print(data[0]+data[1]+mins, str(data.Date))\n",
    "#         break\n",
    "#### Turns out, it took a long time on certain days because an end\n",
    "#### time was earlier than a start time, so it went all the way around"
   ]
  },
  {
   "cell_type": "code",
   "execution_count": 12,
   "metadata": {},
   "outputs": [
    {
     "name": "stdout",
     "output_type": "stream",
     "text": [
      "0 days 00:40:00\n",
      "-1 days +23:20:00\n",
      "0 days 00:40:00\n",
      "0 days 00:40:00\n"
     ]
    }
   ],
   "source": [
    "print(abs(data[\"Starttime\"]-data[\"Endtime\"]))\n",
    "print(data[\"Starttime\"]-data[\"Endtime\"])\n",
    "print(abs(data[\"Endtime\"]-data[\"Starttime\"]))\n",
    "print(data[\"Endtime\"]-data[\"Starttime\"])"
   ]
  },
  {
   "cell_type": "code",
   "execution_count": 13,
   "metadata": {},
   "outputs": [
    {
     "name": "stdout",
     "output_type": "stream",
     "text": [
      "(96304, 2)\n"
     ]
    }
   ],
   "source": [
    "df2 = pd.read_csv(\"time-log-clean-anon.csv\")\n",
    "print(df2.shape)"
   ]
  },
  {
   "cell_type": "code",
   "execution_count": 14,
   "metadata": {},
   "outputs": [
    {
     "data": {
      "text/plain": [
       "break        34571\n",
       "help         10119\n",
       "career        9185\n",
       "dinner        4727\n",
       "lunch         3382\n",
       "planning      3350\n",
       "exercise      2669\n",
       "131b          2390\n",
       "bike          1977\n",
       "171           1857\n",
       "breakfast     1811\n",
       "prep          1748\n",
       "137           1603\n",
       "141a          1408\n",
       "141b          1322\n",
       "154a          1302\n",
       "appt          1256\n",
       "131a          1247\n",
       "104           1110\n",
       "135           1079\n",
       "167           1068\n",
       "010            985\n",
       "106            937\n",
       "122a           909\n",
       "141c           871\n",
       "108            787\n",
       "162            421\n",
       "330            397\n",
       "174            378\n",
       "302            372\n",
       "165a           251\n",
       "160            161\n",
       "168            153\n",
       "fys             99\n",
       "131c            94\n",
       "CLA             93\n",
       "walk            87\n",
       "UDCE            52\n",
       "130             45\n",
       "141             20\n",
       "bus             11\n",
       "Name: Activity, dtype: int64"
      ]
     },
     "execution_count": 14,
     "metadata": {},
     "output_type": "execute_result"
    }
   ],
   "source": [
    "df2[\"Activity\"].value_counts()\n",
    "# (hours of break)/(total hours) for each day\n",
    "# ((blocks*5/60)/(525? days*24))*24"
   ]
  },
  {
   "cell_type": "code",
   "execution_count": null,
   "metadata": {},
   "outputs": [],
   "source": []
  }
 ],
 "metadata": {
  "kernelspec": {
   "display_name": "Python 3",
   "language": "python",
   "name": "python3"
  },
  "language_info": {
   "codemirror_mode": {
    "name": "ipython",
    "version": 3
   },
   "file_extension": ".py",
   "mimetype": "text/x-python",
   "name": "python",
   "nbconvert_exporter": "python",
   "pygments_lexer": "ipython3",
   "version": "3.8.5"
  }
 },
 "nbformat": 4,
 "nbformat_minor": 4
}
